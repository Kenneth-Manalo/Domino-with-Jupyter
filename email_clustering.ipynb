{
 "cells": [
  {
   "cell_type": "markdown",
   "metadata": {},
   "source": [
    "**Import required Libraries**\n",
    "\n",
    "*sklearn - a machine learning library*"
   ]
  },
  {
   "cell_type": "code",
   "execution_count": null,
   "metadata": {},
   "outputs": [],
   "source": [
    "import pandas as pd\n",
    "import numpy as np\n",
    "from sklearn.feature_extraction.text import TfidfVectorizer,CountVectorizer\n",
    "from sklearn.metrics.pairwise import linear_kernel"
   ]
  },
  {
   "cell_type": "markdown",
   "metadata": {},
   "source": [
    "**Read the csv file**"
   ]
  },
  {
   "cell_type": "code",
   "execution_count": null,
   "metadata": {},
   "outputs": [],
   "source": [
    "emails = pd.read_csv('email.csv')"
   ]
  },
  {
   "cell_type": "markdown",
   "metadata": {},
   "source": [
    "**Extract Sender, Receiver, Subject and Message Body for each raw email**  \n",
    "\n",
    "email['from'] = 'sender1@hcl.com'  \n",
    "email['to'] = 'receiver1@hcl.com'  \n",
    "email['subject'] = 'subject1'  \n",
    "email['body'] = 'first message body'"
   ]
  },
  {
   "cell_type": "code",
   "execution_count": null,
   "metadata": {},
   "outputs": [],
   "source": [
    "def parse_raw_email(raw_email):\n",
    "    lines = raw_email.split('\\n')\n",
    "    email = {}\n",
    "    message = ''\n",
    "    keys_to_extract = ['from', 'to', 'subject']\n",
    "    \n",
    "    for line in lines:\n",
    "        if ':' not in line:\n",
    "            message += line.strip()\n",
    "            email['body'] = message\n",
    "        else:\n",
    "            pairs = line.split(':', 1)\n",
    "            key = pairs[0].lower()\n",
    "            val = pairs[1].strip()\n",
    "            if key in keys_to_extract:\n",
    "                email[key] = val\n",
    "    return email"
   ]
  },
  {
   "cell_type": "markdown",
   "metadata": {},
   "source": [
    "**Create an array of data for each extracted fields (from, to, subject, body)**  \n",
    "\n",
    "results['sender1@hcl.com', 'sender2@hcl.com', 'sender3@hcl.com']  "
   ]
  },
  {
   "cell_type": "code",
   "execution_count": null,
   "metadata": {},
   "outputs": [],
   "source": [
    "def map_to_list(emails, key):\n",
    "    results = []\n",
    "    for email in emails:\n",
    "        if key not in email:\n",
    "            results.append('')\n",
    "        else:\n",
    "            results.append(email[key])\n",
    "    return results"
   ]
  },
  {
   "cell_type": "markdown",
   "metadata": {},
   "source": [
    "**Create the array suitable for Pandas Dataframe**  \n",
    "\n",
    "{  \n",
    "    'from': [sender1@hcl.com, sender2@hcl.com, sender3@hcl.com],  \n",
    "    'to': [receiver1@hcl.com, receiver2@hcl.com, receiver3@hcl.com],  \n",
    "    'subject': [subject1@hcl.com, subject2@hcl.com, subject3@hcl.com],  \n",
    "    'body': [message1, message2, message3]    \n",
    "}"
   ]
  },
  {
   "cell_type": "code",
   "execution_count": null,
   "metadata": {},
   "outputs": [],
   "source": [
    "def map_extracted_fields(messages):\n",
    "    emails = [parse_raw_email(message) for message in messages]\n",
    "    return {\n",
    "        'from': map_to_list(emails, 'from'),\n",
    "        'to': map_to_list(emails, 'to'),\n",
    "        'subject': map_to_list(emails, 'subject'),\n",
    "        'body': map_to_list(emails, 'body')\n",
    "    }"
   ]
  },
  {
   "cell_type": "markdown",
   "metadata": {},
   "source": [
    "**Create the Dataframe using Pandas**  \n",
    "\n",
    "d = {'col1': [1, 2], 'col2': [3, 4]}  \n",
    "df = pd.DataFrame(data=d)  \n",
    "df\n",
    "\n",
    " |  | Col1 | Col2  \n",
    " |--|------|------  \n",
    "  0 |   1  |  3  \n",
    "  1 |   2  |  4"
   ]
  },
  {
   "cell_type": "code",
   "execution_count": null,
   "metadata": {
    "scrolled": true
   },
   "outputs": [],
   "source": [
    "email_df = pd.DataFrame(map_extracted_fields(emails.message))\n",
    "email_df"
   ]
  },
  {
   "cell_type": "markdown",
   "metadata": {},
   "source": [
    "**Instantiate TF-IDF Vectorizer**\n",
    "\n",
    "*max_df - ignore terms that appear in more than 50% of the documents*  \n",
    "*min_df - ignore terms that appear in less than 2 documents*  \n",
    "\n",
    "*countvectorizer - this vectorizer will be used for the term frequency*  \n",
    "*tfvectorizer - this vectorizer will be used for the weight of a term in a document*  \n",
    "*tfidfvectorizer - this vectorizer will be used for the weight of a term in the entire dataset*  "
   ]
  },
  {
   "cell_type": "code",
   "execution_count": null,
   "metadata": {},
   "outputs": [],
   "source": [
    "countvectorizer = CountVectorizer(stop_words='english')\n",
    "tfvectorizer = TfidfVectorizer(stop_words='english', use_idf=False)\n",
    "tfidfvectorizer = TfidfVectorizer(stop_words='english', max_df=0.50, min_df=2)"
   ]
  },
  {
   "cell_type": "markdown",
   "metadata": {},
   "source": [
    "**Convert email body to matrix**  \n",
    "\n",
    "Result will be a sparse matrix\n",
    "(A, B) C  \n",
    "\n",
    "A: Document index  \n",
    "B: Specific word-vector index  \n",
    "\n",
    "C: (Term Frequency) TF of word B in document A (count_matrix)  \n",
    "C: TF weight for word B in document A (tf_matrix)  \n",
    "C: TFIDF score for word B in document A in the entire data set (tfidf_matrix)  "
   ]
  },
  {
   "cell_type": "code",
   "execution_count": null,
   "metadata": {},
   "outputs": [],
   "source": [
    "count_matrix = countvectorizer.fit_transform(email_df.body)\n",
    "tf_matrix = tfvectorizer.fit_transform(email_df.body)\n",
    "tfidf_matrix = tfidfvectorizer.fit_transform(email_df.body)\n",
    "\n",
    "print(tfidf_matrix)"
   ]
  },
  {
   "cell_type": "markdown",
   "metadata": {},
   "source": [
    "**Retrieve the terms found in the dataset**"
   ]
  },
  {
   "cell_type": "code",
   "execution_count": null,
   "metadata": {},
   "outputs": [],
   "source": [
    "count_feats = countvectorizer.get_feature_names()\n",
    "tf_feats = tfvectorizer.get_feature_names()\n",
    "tfidf_feats = tfidfvectorizer.get_feature_names()"
   ]
  },
  {
   "cell_type": "markdown",
   "metadata": {},
   "source": [
    "**Display Vectorizer output in a Dataframe**\n",
    "\n",
    "*This will display the top 10 words commonly used in an individual email*\n",
    "\n",
    "*Count - number of times the word appeared in an email*  \n",
    "*TF - weight score of the word in an email*"
   ]
  },
  {
   "cell_type": "code",
   "execution_count": null,
   "metadata": {},
   "outputs": [],
   "source": [
    "count = 10\n",
    "email_index = 1\n",
    "\n",
    "# (document_id, token_id) tfidf_score\n",
    "print(\"\\n\\nEmail Message\\n\")\n",
    "print(email_df.body[email_index])\n",
    "\n",
    "print(\"\\n\\nCount Vectorizer\\n\")\n",
    "count_df = pd.DataFrame(count_matrix[email_index].T.todense(), index=count_feats, columns=[\"Count\"])\n",
    "count_df = count_df.sort_values('Count', ascending=False)\n",
    "print (count_df.head(count))\n",
    "\n",
    "print(\"\\n\\nTF Vectorizer\\n\")\n",
    "tf_df = pd.DataFrame(tf_matrix[email_index].T.todense(), index=tf_feats, columns=[\"TF\"])\n",
    "tf_df = tf_df.sort_values('TF', ascending=False)\n",
    "print (tf_df.head(count))"
   ]
  },
  {
   "cell_type": "markdown",
   "metadata": {},
   "source": [
    "**This will display the top 10 words for the entire dataset with their TF-IDF score**"
   ]
  },
  {
   "cell_type": "code",
   "execution_count": null,
   "metadata": {},
   "outputs": [],
   "source": [
    "tfidf_means = np.mean(tfidf_matrix.toarray(), axis=0)\n",
    "\n",
    "top_ids = np.argsort(tfidf_means)[::-1][:count]\n",
    "top_feats = [(tfidf_feats[i], tfidf_means[i]) for i in top_ids]\n",
    "df_top_feats = pd.DataFrame(top_feats, columns=['words', 'score'])\n",
    "\n",
    "df_top_feats"
   ]
  },
  {
   "cell_type": "markdown",
   "metadata": {},
   "source": [
    "**Finding emails by query** \n",
    "\n",
    "*Cosine similarity is a measure of similarity between two non-zero vectors of an inner product space that measures the cosine of the angle between them. The cosine of 0° is 1, and it is less than 1 for any other angle.*  \n",
    "\n",
    "*tfidf_matrix[0:1] - The vector of the first email.*"
   ]
  },
  {
   "cell_type": "code",
   "execution_count": null,
   "metadata": {},
   "outputs": [],
   "source": [
    "cosine_sim = linear_kernel(tfidf_matrix[0:1], tfidf_matrix).flatten()\n",
    "print(cosine_sim)"
   ]
  },
  {
   "cell_type": "markdown",
   "metadata": {},
   "source": [
    "**Return the top 10 email messages that contains the word you want to query**"
   ]
  },
  {
   "cell_type": "code",
   "execution_count": null,
   "metadata": {},
   "outputs": [],
   "source": [
    "query = \"pipeline\"\n",
    "\n",
    "vec_query = tfidfvectorizer.transform([query])\n",
    "\n",
    "cosine_sim = linear_kernel(vec_query, tfidf_matrix).flatten()\n",
    "\n",
    "related_email_indices = cosine_sim.argsort()[:-10:-1]\n",
    "print(related_email_indices)"
   ]
  },
  {
   "cell_type": "code",
   "execution_count": null,
   "metadata": {
    "scrolled": false
   },
   "outputs": [],
   "source": [
    "for i in related_email_indices:\n",
    "  print(i)  \n",
    "  print(email_df.body[i] + \"\\n\\n\")"
   ]
  },
  {
   "cell_type": "code",
   "execution_count": null,
   "metadata": {},
   "outputs": [],
   "source": []
  }
 ],
 "metadata": {
  "kernelspec": {
   "display_name": "Python 3",
   "language": "python",
   "name": "python3"
  },
  "language_info": {
   "codemirror_mode": {
    "name": "ipython",
    "version": 3
   },
   "file_extension": ".py",
   "mimetype": "text/x-python",
   "name": "python",
   "nbconvert_exporter": "python",
   "pygments_lexer": "ipython3",
   "version": "3.6.3"
  }
 },
 "nbformat": 4,
 "nbformat_minor": 2
}
