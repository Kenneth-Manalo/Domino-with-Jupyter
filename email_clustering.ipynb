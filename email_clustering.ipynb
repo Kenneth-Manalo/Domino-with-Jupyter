{
 "cells": [
  {
   "cell_type": "markdown",
   "metadata": {},
   "source": [
    "**Import required Libraries**"
   ]
  },
  {
   "cell_type": "code",
   "execution_count": 1,
   "metadata": {},
   "outputs": [],
   "source": [
    "import pandas as pd\n",
    "import numpy as np\n",
    "from sklearn.feature_extraction.text import TfidfVectorizer,CountVectorizer"
   ]
  },
  {
   "cell_type": "markdown",
   "metadata": {},
   "source": [
    "**Read the csv file**"
   ]
  },
  {
   "cell_type": "code",
   "execution_count": 2,
   "metadata": {},
   "outputs": [],
   "source": [
    "emails = pd.read_csv('email.csv')"
   ]
  },
  {
   "cell_type": "markdown",
   "metadata": {},
   "source": [
    "**Extract Sender, Receiver, Subject and Message Body for each raw email**  \n",
    "\n",
    "email['from'] = 'sender1@hcl.com'  \n",
    "email['to'] = 'receiver1@hcl.com'  \n",
    "email['subject'] = 'subject1'  \n",
    "email['body'] = 'first message body'"
   ]
  },
  {
   "cell_type": "code",
   "execution_count": 3,
   "metadata": {},
   "outputs": [],
   "source": [
    "def parse_raw_email(raw_email):\n",
    "    lines = raw_email.split('\\n')\n",
    "    email = {}\n",
    "    message = ''\n",
    "    keys_to_extract = ['from', 'to', 'subject']\n",
    "    \n",
    "    for line in lines:\n",
    "        if ':' not in line:\n",
    "            message += line.strip()\n",
    "            email['body'] = message\n",
    "        else:\n",
    "            pairs = line.split(':', 1)\n",
    "            key = pairs[0].lower()\n",
    "            val = pairs[1].strip()\n",
    "            if key in keys_to_extract:\n",
    "                email[key] = val\n",
    "    return email"
   ]
  },
  {
   "cell_type": "markdown",
   "metadata": {},
   "source": [
    "**Create an array of data for each extracted fields (from, to, subject, body)**  \n",
    "\n",
    "results['sender1@hcl.com']  \n",
    "results['sender2@hcl.com']  \n",
    "results['sender3@hcl.com']  "
   ]
  },
  {
   "cell_type": "code",
   "execution_count": 4,
   "metadata": {},
   "outputs": [],
   "source": [
    "def map_to_list(emails, key):\n",
    "    results = []\n",
    "    for email in emails:\n",
    "        if key not in email:\n",
    "            results.append('')\n",
    "        else:\n",
    "            results.append(email[key])\n",
    "    return results"
   ]
  },
  {
   "cell_type": "markdown",
   "metadata": {},
   "source": [
    "**Create the array suitable for Pandas Dataframe**  \n",
    "\n",
    "{  \n",
    "    'from': [sender1@hcl.com, sender2@hcl.com, sender3@hcl.com],  \n",
    "    'to': [receiver1@hcl.com, receiver2@hcl.com, receiver3@hcl.com],  \n",
    "    'subject': [subject1@hcl.com, subject2@hcl.com, subject3@hcl.com],  \n",
    "    'body': [message1, message2, message3]    \n",
    "}"
   ]
  },
  {
   "cell_type": "code",
   "execution_count": 5,
   "metadata": {},
   "outputs": [],
   "source": [
    "def map_extracted_fields(messages):\n",
    "    emails = [parse_raw_email(message) for message in messages]\n",
    "    return {\n",
    "        'from': map_to_list(emails, 'from'),\n",
    "        'to': map_to_list(emails, 'to'),\n",
    "        'subject': map_to_list(emails, 'subject'),\n",
    "        'body': map_to_list(emails, 'body')\n",
    "    }"
   ]
  },
  {
   "cell_type": "markdown",
   "metadata": {},
   "source": [
    "**Create the Dataframe using Pandas**  \n",
    "\n",
    "d = {'col1': [1, 2], 'col2': [3, 4]}  \n",
    "df = pd.DataFrame(data=d)  \n",
    "df\n",
    "\n",
    " |  | Col1 | Col2  \n",
    " |--|------|------  \n",
    "  0 |   1  |  3  \n",
    "  1 |   2  |  4"
   ]
  },
  {
   "cell_type": "code",
   "execution_count": 6,
   "metadata": {
    "scrolled": true
   },
   "outputs": [
    {
     "data": {
      "text/html": [
       "<div>\n",
       "<style scoped>\n",
       "    .dataframe tbody tr th:only-of-type {\n",
       "        vertical-align: middle;\n",
       "    }\n",
       "\n",
       "    .dataframe tbody tr th {\n",
       "        vertical-align: top;\n",
       "    }\n",
       "\n",
       "    .dataframe thead th {\n",
       "        text-align: right;\n",
       "    }\n",
       "</style>\n",
       "<table border=\"1\" class=\"dataframe\">\n",
       "  <thead>\n",
       "    <tr style=\"text-align: right;\">\n",
       "      <th></th>\n",
       "      <th>from</th>\n",
       "      <th>to</th>\n",
       "      <th>subject</th>\n",
       "      <th>body</th>\n",
       "    </tr>\n",
       "  </thead>\n",
       "  <tbody>\n",
       "    <tr>\n",
       "      <th>0</th>\n",
       "      <td>phillip.allen@enron.com</td>\n",
       "      <td>tim.belden@enron.com</td>\n",
       "      <td></td>\n",
       "      <td>Here is our forecast</td>\n",
       "    </tr>\n",
       "    <tr>\n",
       "      <th>1</th>\n",
       "      <td>phillip.allen@enron.com</td>\n",
       "      <td>john.lavorato@enron.com</td>\n",
       "      <td>Re:</td>\n",
       "      <td>Traveling to have a business meeting takes the...</td>\n",
       "    </tr>\n",
       "    <tr>\n",
       "      <th>2</th>\n",
       "      <td>phillip.allen@enron.com</td>\n",
       "      <td>leah.arsdall@enron.com</td>\n",
       "      <td>Re: test</td>\n",
       "      <td>test successful.  way to go!!!</td>\n",
       "    </tr>\n",
       "    <tr>\n",
       "      <th>3</th>\n",
       "      <td>phillip.allen@enron.com</td>\n",
       "      <td>randall.gay@enron.com</td>\n",
       "      <td></td>\n",
       "      <td>Randy,Can you send me a schedule of the salary...</td>\n",
       "    </tr>\n",
       "    <tr>\n",
       "      <th>4</th>\n",
       "      <td>phillip.allen@enron.com</td>\n",
       "      <td>greg.piper@enron.com</td>\n",
       "      <td>Re: Hello</td>\n",
       "      <td></td>\n",
       "    </tr>\n",
       "    <tr>\n",
       "      <th>...</th>\n",
       "      <td>...</td>\n",
       "      <td>...</td>\n",
       "      <td>...</td>\n",
       "      <td>...</td>\n",
       "    </tr>\n",
       "    <tr>\n",
       "      <th>9995</th>\n",
       "      <td>eric.bass@enron.com</td>\n",
       "      <td>Brian Hoskins/HOU/ECT@ECT</td>\n",
       "      <td>Evite: Super Bowl Party</td>\n",
       "      <td>shes pretty sexy, huh?  are we getting togethe...</td>\n",
       "    </tr>\n",
       "    <tr>\n",
       "      <th>9996</th>\n",
       "      <td>eric.bass@enron.com</td>\n",
       "      <td>danielles@jonesgranger.com</td>\n",
       "      <td></td>\n",
       "      <td>i copied your idea - and it screwed up your name!</td>\n",
       "    </tr>\n",
       "    <tr>\n",
       "      <th>9997</th>\n",
       "      <td>eric.bass@enron.com</td>\n",
       "      <td>Eric Bass/HOU/ECT@ECT</td>\n",
       "      <td>9912 Texas Financial Liquidations</td>\n",
       "      <td>---------------------------Eric,Just a reminde...</td>\n",
       "    </tr>\n",
       "    <tr>\n",
       "      <th>9998</th>\n",
       "      <td>eric.bass@enron.com</td>\n",
       "      <td>lwbthemarine@bigplanet.com</td>\n",
       "      <td></td>\n",
       "      <td>did you buy any enron in the 60s?</td>\n",
       "    </tr>\n",
       "    <tr>\n",
       "      <th>9999</th>\n",
       "      <td>eric.bass@enron.com</td>\n",
       "      <td>Eric Bass/HOU/ECT@ECT</td>\n",
       "      <td></td>\n",
       "      <td>Yea, thanks for reminding me about your b-day,...</td>\n",
       "    </tr>\n",
       "  </tbody>\n",
       "</table>\n",
       "<p>10000 rows × 4 columns</p>\n",
       "</div>"
      ],
      "text/plain": [
       "                         from                          to  \\\n",
       "0     phillip.allen@enron.com        tim.belden@enron.com   \n",
       "1     phillip.allen@enron.com     john.lavorato@enron.com   \n",
       "2     phillip.allen@enron.com      leah.arsdall@enron.com   \n",
       "3     phillip.allen@enron.com       randall.gay@enron.com   \n",
       "4     phillip.allen@enron.com        greg.piper@enron.com   \n",
       "...                       ...                         ...   \n",
       "9995      eric.bass@enron.com   Brian Hoskins/HOU/ECT@ECT   \n",
       "9996      eric.bass@enron.com  danielles@jonesgranger.com   \n",
       "9997      eric.bass@enron.com       Eric Bass/HOU/ECT@ECT   \n",
       "9998      eric.bass@enron.com  lwbthemarine@bigplanet.com   \n",
       "9999      eric.bass@enron.com       Eric Bass/HOU/ECT@ECT   \n",
       "\n",
       "                                subject  \\\n",
       "0                                         \n",
       "1                                   Re:   \n",
       "2                              Re: test   \n",
       "3                                         \n",
       "4                             Re: Hello   \n",
       "...                                 ...   \n",
       "9995            Evite: Super Bowl Party   \n",
       "9996                                      \n",
       "9997  9912 Texas Financial Liquidations   \n",
       "9998                                      \n",
       "9999                                      \n",
       "\n",
       "                                                   body  \n",
       "0                                  Here is our forecast  \n",
       "1     Traveling to have a business meeting takes the...  \n",
       "2                        test successful.  way to go!!!  \n",
       "3     Randy,Can you send me a schedule of the salary...  \n",
       "4                                                        \n",
       "...                                                 ...  \n",
       "9995  shes pretty sexy, huh?  are we getting togethe...  \n",
       "9996  i copied your idea - and it screwed up your name!  \n",
       "9997  ---------------------------Eric,Just a reminde...  \n",
       "9998                  did you buy any enron in the 60s?  \n",
       "9999  Yea, thanks for reminding me about your b-day,...  \n",
       "\n",
       "[10000 rows x 4 columns]"
      ]
     },
     "execution_count": 6,
     "metadata": {},
     "output_type": "execute_result"
    }
   ],
   "source": [
    "email_df = pd.DataFrame(map_extracted_fields(emails.message))\n",
    "email_df"
   ]
  },
  {
   "cell_type": "markdown",
   "metadata": {},
   "source": [
    "**Instantiate TF-IDF Vectorizer**\n",
    "\n",
    "*max_df - ignore terms that appear in more than 50% of the documents*  \n",
    "*min_df - ignore terms that appear in less than 2 documents*"
   ]
  },
  {
   "cell_type": "code",
   "execution_count": 7,
   "metadata": {},
   "outputs": [],
   "source": [
    "countvectorizer = CountVectorizer(stop_words='english')\n",
    "tfvectorizer = TfidfVectorizer(stop_words='english', use_idf=False)\n",
    "tfidfvectorizer = TfidfVectorizer(stop_words='english', max_df=0.50, min_df=2)"
   ]
  },
  {
   "cell_type": "markdown",
   "metadata": {},
   "source": [
    "**Convert email body to matrix**"
   ]
  },
  {
   "cell_type": "code",
   "execution_count": 8,
   "metadata": {},
   "outputs": [],
   "source": [
    "count_matrix = countvectorizer.fit_transform(email_df.body)\n",
    "tf_matrix = tfvectorizer.fit_transform(email_df.body)\n",
    "tfidf_matrix = tfidfvectorizer.fit_transform(email_df.body)"
   ]
  },
  {
   "cell_type": "markdown",
   "metadata": {},
   "source": [
    "**Retrieve the terms found in corpus**"
   ]
  },
  {
   "cell_type": "code",
   "execution_count": 9,
   "metadata": {},
   "outputs": [],
   "source": [
    "count_feats = countvectorizer.get_feature_names()\n",
    "tf_feats = tfvectorizer.get_feature_names()\n",
    "tfidf_feats = tfidfvectorizer.get_feature_names()"
   ]
  },
  {
   "cell_type": "markdown",
   "metadata": {},
   "source": [
    "**Display Vectorizer output in a Dataframe**\n",
    "\n",
    "*This will display the top 10 words commonly used in an individual email*\n",
    "\n",
    "*Count - number of times the word appeared in an email*  \n",
    "*TF - frequency score of the word in an email*"
   ]
  },
  {
   "cell_type": "code",
   "execution_count": 10,
   "metadata": {},
   "outputs": [
    {
     "name": "stdout",
     "output_type": "stream",
     "text": [
      "\n",
      "\n",
      "Email Message\n",
      "\n",
      "Traveling to have a business meeting takes the fun out of the trip.  Especially if you have to prepare a presentation.  I would suggest holding the business plan meetings here then take a trip without any formal business meetings.  I would even try and get some honest opinions on whether a trip is even desired or necessary.As far as the business meetings, I think it would be more productive to try and stimulate discussions across the different groups about what is working and what is not.  Too often the presenter speaks and the others are quiet just waiting for their turn.   The meetings might be better if held in a round table discussion format.My suggestion for where to go is Austin.  Play golf and rent a ski boat and jet ski's.  Flying somewhere takes too much time.\n",
      "\n",
      "\n",
      "Count Vectorizer\n",
      "\n",
      "             Count\n",
      "meetings         4\n",
      "business         4\n",
      "trip             3\n",
      "takes            2\n",
      "ski              2\n",
      "try              2\n",
      "turn             1\n",
      "presenter        1\n",
      "better           1\n",
      "discussions      1\n",
      "\n",
      "\n",
      "TF Vectorizer\n",
      "\n",
      "                   TF\n",
      "meetings     0.408248\n",
      "business     0.408248\n",
      "trip         0.306186\n",
      "takes        0.204124\n",
      "ski          0.204124\n",
      "try          0.204124\n",
      "turn         0.102062\n",
      "presenter    0.102062\n",
      "better       0.102062\n",
      "discussions  0.102062\n"
     ]
    }
   ],
   "source": [
    "count = 10\n",
    "email_index = 1\n",
    "\n",
    "# (document_id, token_id) tfidf_score\n",
    "print(\"\\n\\nEmail Message\\n\")\n",
    "print(email_df.body[email_index])\n",
    "\n",
    "print(\"\\n\\nCount Vectorizer\\n\")\n",
    "count_df = pd.DataFrame(count_matrix[email_index].T.todense(), index=count_feats, columns=[\"Count\"])\n",
    "count_df = count_df.sort_values('Count', ascending=False)\n",
    "print (count_df.head(count))\n",
    "\n",
    "print(\"\\n\\nTF Vectorizer\\n\")\n",
    "tf_df = pd.DataFrame(tf_matrix[email_index].T.todense(), index=tf_feats, columns=[\"TF\"])\n",
    "tf_df = tf_df.sort_values('TF', ascending=False)\n",
    "print (tf_df.head(count))"
   ]
  },
  {
   "cell_type": "markdown",
   "metadata": {},
   "source": [
    "*This will display the top 10 words for the entire dataset using the TF-IDF score*"
   ]
  },
  {
   "cell_type": "code",
   "execution_count": 11,
   "metadata": {},
   "outputs": [
    {
     "data": {
      "text/html": [
       "<div>\n",
       "<style scoped>\n",
       "    .dataframe tbody tr th:only-of-type {\n",
       "        vertical-align: middle;\n",
       "    }\n",
       "\n",
       "    .dataframe tbody tr th {\n",
       "        vertical-align: top;\n",
       "    }\n",
       "\n",
       "    .dataframe thead th {\n",
       "        text-align: right;\n",
       "    }\n",
       "</style>\n",
       "<table border=\"1\" class=\"dataframe\">\n",
       "  <thead>\n",
       "    <tr style=\"text-align: right;\">\n",
       "      <th></th>\n",
       "      <th>words</th>\n",
       "      <th>score</th>\n",
       "    </tr>\n",
       "  </thead>\n",
       "  <tbody>\n",
       "    <tr>\n",
       "      <th>0</th>\n",
       "      <td>enron</td>\n",
       "      <td>0.049938</td>\n",
       "    </tr>\n",
       "    <tr>\n",
       "      <th>1</th>\n",
       "      <td>com</td>\n",
       "      <td>0.037819</td>\n",
       "    </tr>\n",
       "    <tr>\n",
       "      <th>2</th>\n",
       "      <td>ect</td>\n",
       "      <td>0.028561</td>\n",
       "    </tr>\n",
       "    <tr>\n",
       "      <th>3</th>\n",
       "      <td>message</td>\n",
       "      <td>0.022798</td>\n",
       "    </tr>\n",
       "    <tr>\n",
       "      <th>4</th>\n",
       "      <td>hou</td>\n",
       "      <td>0.019696</td>\n",
       "    </tr>\n",
       "    <tr>\n",
       "      <th>5</th>\n",
       "      <td>original</td>\n",
       "      <td>0.019511</td>\n",
       "    </tr>\n",
       "    <tr>\n",
       "      <th>6</th>\n",
       "      <td>phillip</td>\n",
       "      <td>0.018870</td>\n",
       "    </tr>\n",
       "    <tr>\n",
       "      <th>7</th>\n",
       "      <td>thanks</td>\n",
       "      <td>0.014263</td>\n",
       "    </tr>\n",
       "    <tr>\n",
       "      <th>8</th>\n",
       "      <td>john</td>\n",
       "      <td>0.014109</td>\n",
       "    </tr>\n",
       "    <tr>\n",
       "      <th>9</th>\n",
       "      <td>gas</td>\n",
       "      <td>0.013763</td>\n",
       "    </tr>\n",
       "  </tbody>\n",
       "</table>\n",
       "</div>"
      ],
      "text/plain": [
       "      words     score\n",
       "0     enron  0.049938\n",
       "1       com  0.037819\n",
       "2       ect  0.028561\n",
       "3   message  0.022798\n",
       "4       hou  0.019696\n",
       "5  original  0.019511\n",
       "6   phillip  0.018870\n",
       "7    thanks  0.014263\n",
       "8      john  0.014109\n",
       "9       gas  0.013763"
      ]
     },
     "execution_count": 11,
     "metadata": {},
     "output_type": "execute_result"
    }
   ],
   "source": [
    "tfidf_means = np.mean(tfidf_matrix.toarray(), axis=0)\n",
    "\n",
    "top_ids = np.argsort(tfidf_means)[::-1][:count]\n",
    "top_feats = [(tfidf_feats[i], tfidf_means[i]) for i in top_ids]\n",
    "df_top_feats = pd.DataFrame(top_feats, columns=['words', 'score'])\n",
    "\n",
    "df_top_feats"
   ]
  },
  {
   "cell_type": "code",
   "execution_count": null,
   "metadata": {},
   "outputs": [],
   "source": []
  }
 ],
 "metadata": {
  "kernelspec": {
   "display_name": "Python 3",
   "language": "python",
   "name": "python3"
  },
  "language_info": {
   "codemirror_mode": {
    "name": "ipython",
    "version": 3
   },
   "file_extension": ".py",
   "mimetype": "text/x-python",
   "name": "python",
   "nbconvert_exporter": "python",
   "pygments_lexer": "ipython3",
   "version": "3.6.3"
  }
 },
 "nbformat": 4,
 "nbformat_minor": 2
}
