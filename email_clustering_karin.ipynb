{
 "cells": [
  {
   "cell_type": "markdown",
   "metadata": {},
   "source": [
    "**Import required Libraries**"
   ]
  },
  {
   "cell_type": "code",
   "execution_count": null,
   "metadata": {},
   "outputs": [],
   "source": [
    "import pandas as pd\n",
    "from sklearn.feature_extraction.text import TfidfVectorizer,CountVectorizer"
   ]
  },
  {
   "cell_type": "markdown",
   "metadata": {},
   "source": [
    "**Read the csv file**"
   ]
  },
  {
   "cell_type": "code",
   "execution_count": null,
   "metadata": {},
   "outputs": [],
   "source": [
    "emails = pd.read_csv('email.csv')"
   ]
  },
  {
   "cell_type": "markdown",
   "metadata": {},
   "source": [
    "**Extract Sender, Receiver, Subject and Message Body for each raw email**  \n",
    "\n",
    "email['from'] = 'sender1@hcl.com'  \n",
    "email['to'] = 'receiver1@hcl.com'  \n",
    "email['subject'] = 'subject1'  \n",
    "email['body'] = 'first message body'"
   ]
  },
  {
   "cell_type": "code",
   "execution_count": null,
   "metadata": {},
   "outputs": [],
   "source": [
    "def parse_raw_email(raw_email):\n",
    "    lines = raw_email.split('\\n')\n",
    "    email = {}\n",
    "    message = ''\n",
    "    keys_to_extract = ['from', 'to', 'subject']\n",
    "    \n",
    "    for line in lines:\n",
    "        if ':' not in line:\n",
    "            message += line.strip()\n",
    "            email['body'] = message\n",
    "        else:\n",
    "            pairs = line.split(':', 1)\n",
    "            key = pairs[0].lower()\n",
    "            val = pairs[1].strip()\n",
    "            if key in keys_to_extract:\n",
    "                email[key] = val\n",
    "    return email"
   ]
  },
  {
   "cell_type": "markdown",
   "metadata": {},
   "source": [
    "**Create an array of data for each extracted fields (from, to, subject, body)**  \n",
    "\n",
    "results['sender1@hcl.com']  \n",
    "results['sender2@hcl.com']  \n",
    "results['sender3@hcl.com']  "
   ]
  },
  {
   "cell_type": "code",
   "execution_count": null,
   "metadata": {},
   "outputs": [],
   "source": [
    "def map_to_list(emails, key):\n",
    "    results = []\n",
    "    for email in emails:\n",
    "        if key not in email:\n",
    "            results.append('')\n",
    "        else:\n",
    "            results.append(email[key])\n",
    "    return results"
   ]
  },
  {
   "cell_type": "markdown",
   "metadata": {},
   "source": [
    "**Create the array suitable for Pandas Dataframe**  \n",
    "\n",
    "{  \n",
    "    'from': [sender1@hcl.com, sender2@hcl.com, sender3@hcl.com],  \n",
    "    'to': [receiver1@hcl.com, receiver2@hcl.com, receiver3@hcl.com],  \n",
    "    'subject': [subject1@hcl.com, subject2@hcl.com, subject3@hcl.com],  \n",
    "    'body': [message1, message2, message3]    \n",
    "}"
   ]
  },
  {
   "cell_type": "code",
   "execution_count": null,
   "metadata": {},
   "outputs": [],
   "source": [
    "def map_extracted_fields(messages):\n",
    "    emails = [parse_raw_email(message) for message in messages]\n",
    "    return {\n",
    "        'from': map_to_list(emails, 'from'),\n",
    "        'to': map_to_list(emails, 'to'),\n",
    "        'subject': map_to_list(emails, 'subject'),\n",
    "        'body': map_to_list(emails, 'body')\n",
    "    }"
   ]
  },
  {
   "cell_type": "markdown",
   "metadata": {},
   "source": [
    "**Create the Dataframe using Pandas**  \n",
    "\n",
    "d = {'col1': [1, 2], 'col2': [3, 4]}  \n",
    "df = pd.DataFrame(data=d)  \n",
    "df\n",
    "\n",
    " |  | Col1 | Col2  \n",
    " |--|------|------  \n",
    "  0 |   1  |  3  \n",
    "  1 |   2  |  4"
   ]
  },
  {
   "cell_type": "code",
   "execution_count": null,
   "metadata": {
    "scrolled": true
   },
   "outputs": [],
   "source": [
    "email_df = pd.DataFrame(map_extracted_fields(emails.message))\n",
    "email_df"
   ]
  },
  {
   "cell_type": "markdown",
   "metadata": {},
   "source": [
    "**Instantiate TF-IDF Vectorizer**\n",
    "\n",
    "*ignore terms that appear in more than 50% of the documents*\\n\n",
    "*ignore terms that appear in less than 2 documents*"
   ]
  },
  {
   "cell_type": "code",
   "execution_count": null,
   "metadata": {},
   "outputs": [],
   "source": [
    "countvectorizer = CountVectorizer(stop_words='english', max_df=0.50, min_df=2)\n",
    "tfidfvectorizer = TfidfVectorizer(stop_words='english', max_df=0.50, min_df=2)"
   ]
  },
  {
   "cell_type": "markdown",
   "metadata": {},
   "source": [
    "**Convert email body to matrix**"
   ]
  },
  {
   "cell_type": "code",
   "execution_count": null,
   "metadata": {},
   "outputs": [],
   "source": [
    "count_matrix = countvectorizer.fit_transform(email_df.body)\n",
    "tfidf_matrix = tfidfvectorizer.fit_transform(email_df.body)"
   ]
  },
  {
   "cell_type": "markdown",
   "metadata": {},
   "source": [
    "**Retrieve the terms found in corpus**"
   ]
  },
  {
   "cell_type": "code",
   "execution_count": null,
   "metadata": {},
   "outputs": [],
   "source": [
    "count_feats = countvectorizer.get_feature_names()\n",
    "tfidf_feats = tfidfvectorizer.get_feature_names()"
   ]
  },
  {
   "cell_type": "markdown",
   "metadata": {},
   "source": [
    "**Display Vectorizer output in a Dataframe**\n",
    "\n",
    "*This result is for an individual email*"
   ]
  },
  {
   "cell_type": "code",
   "execution_count": null,
   "metadata": {},
   "outputs": [],
   "source": [
    "# (document_id, token_id) tfidf_score\n",
    "print(\"Count Vectorizer\\n\")\n",
    "count_df = pd.DataFrame(count_matrix[1].T.todense(), index=count_feats, columns=[\"Count\"])\n",
    "count_df = count_df.sort_values('Count', ascending=False)\n",
    "print (count_df.head(25))\n",
    "\n",
    "print(\"\\n\\nTD-IDF Vectorizer\\n\")\n",
    "tfidf_df = pd.DataFrame(tfidf_matrix[1].T.todense(), index=tfidf_feats, columns=[\"TF-IDF\"])\n",
    "tfidf_df = tfidf_df.sort_values('TF-IDF', ascending=False)\n",
    "print (tfidf_df.head(25))"
   ]
  }
 ],
 "metadata": {
  "kernelspec": {
   "name": "Python 3.8.3 64-bit",
   "display_name": "Python 3.8.3 64-bit",
   "metadata": {
    "interpreter": {
     "hash": "2db524e06e9f5f4ffedc911c917cb75e12dbc923643829bf417064a77eb14d37"
    }
   }
  },
  "language_info": {
   "codemirror_mode": {
    "name": "ipython",
    "version": 3
   },
   "file_extension": ".py",
   "mimetype": "text/x-python",
   "name": "python",
   "nbconvert_exporter": "python",
   "pygments_lexer": "ipython3",
   "version": "3.8.3-final"
  }
 },
 "nbformat": 4,
 "nbformat_minor": 2
}